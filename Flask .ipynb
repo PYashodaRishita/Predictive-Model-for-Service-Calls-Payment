{
 "cells": [
  {
   "cell_type": "code",
   "execution_count": 8,
   "id": "34aa77e7",
   "metadata": {},
   "outputs": [
    {
     "name": "stdout",
     "output_type": "stream",
     "text": [
      "Unexpected exception formatting exception. Falling back to standard exception\n"
     ]
    },
    {
     "name": "stderr",
     "output_type": "stream",
     "text": [
      "Traceback (most recent call last):\n",
      "  File \"/Users/rishitayashoda/anaconda3/lib/python3.10/site-packages/IPython/core/interactiveshell.py\", line 3508, in run_code\n",
      "  File \"/var/folders/p7/27yn91ln65s_rgxl_s1ppk140000gn/T/ipykernel_22438/2887411173.py\", line 2, in <module>\n",
      "    from flask import Flask, render_template, request\n",
      "ModuleNotFoundError: No module named 'flask'\n",
      "\n",
      "During handling of the above exception, another exception occurred:\n",
      "\n",
      "Traceback (most recent call last):\n",
      "  File \"/Users/rishitayashoda/anaconda3/lib/python3.10/site-packages/pygments/styles/__init__.py\", line 89, in get_style_by_name\n",
      "ModuleNotFoundError: No module named 'pygments.styles.default'\n",
      "\n",
      "During handling of the above exception, another exception occurred:\n",
      "\n",
      "Traceback (most recent call last):\n",
      "  File \"/Users/rishitayashoda/anaconda3/lib/python3.10/site-packages/IPython/core/interactiveshell.py\", line 2105, in showtraceback\n",
      "  File \"/Users/rishitayashoda/anaconda3/lib/python3.10/site-packages/IPython/core/ultratb.py\", line 1396, in structured_traceback\n",
      "  File \"/Users/rishitayashoda/anaconda3/lib/python3.10/site-packages/IPython/core/ultratb.py\", line 1287, in structured_traceback\n",
      "  File \"/Users/rishitayashoda/anaconda3/lib/python3.10/site-packages/IPython/core/ultratb.py\", line 1140, in structured_traceback\n",
      "  File \"/Users/rishitayashoda/anaconda3/lib/python3.10/site-packages/IPython/core/ultratb.py\", line 1030, in format_exception_as_a_whole\n",
      "  File \"/Users/rishitayashoda/anaconda3/lib/python3.10/site-packages/IPython/core/ultratb.py\", line 1081, in get_records\n",
      "  File \"/Users/rishitayashoda/anaconda3/lib/python3.10/site-packages/pygments/styles/__init__.py\", line 91, in get_style_by_name\n",
      "pygments.util.ClassNotFound: Could not find style module 'default', though it should be builtin.\n"
     ]
    }
   ],
   "source": [
    "#Importing libraries\n",
    "from flask import Flask, render_template, request\n",
    "import pandas as pd\n",
    "import joblib"
   ]
  },
  {
   "cell_type": "code",
   "execution_count": 4,
   "id": "acdef5b1",
   "metadata": {},
   "outputs": [
    {
     "name": "stdout",
     "output_type": "stream",
     "text": [
      "Unexpected exception formatting exception. Falling back to standard exception\n"
     ]
    },
    {
     "name": "stderr",
     "output_type": "stream",
     "text": [
      "Traceback (most recent call last):\n",
      "  File \"/Users/rishitayashoda/anaconda3/lib/python3.10/site-packages/IPython/core/interactiveshell.py\", line 3508, in run_code\n",
      "  File \"/var/folders/p7/27yn91ln65s_rgxl_s1ppk140000gn/T/ipykernel_22438/3200427911.py\", line 2, in <module>\n",
      "    Model = joblib.load('model.pkl')\n",
      "NameError: name 'joblib' is not defined\n",
      "\n",
      "During handling of the above exception, another exception occurred:\n",
      "\n",
      "Traceback (most recent call last):\n",
      "  File \"/Users/rishitayashoda/anaconda3/lib/python3.10/site-packages/pygments/styles/__init__.py\", line 89, in get_style_by_name\n",
      "ModuleNotFoundError: No module named 'pygments.styles.default'\n",
      "\n",
      "During handling of the above exception, another exception occurred:\n",
      "\n",
      "Traceback (most recent call last):\n",
      "  File \"/Users/rishitayashoda/anaconda3/lib/python3.10/site-packages/IPython/core/interactiveshell.py\", line 2105, in showtraceback\n",
      "  File \"/Users/rishitayashoda/anaconda3/lib/python3.10/site-packages/IPython/core/ultratb.py\", line 1396, in structured_traceback\n",
      "  File \"/Users/rishitayashoda/anaconda3/lib/python3.10/site-packages/IPython/core/ultratb.py\", line 1287, in structured_traceback\n",
      "  File \"/Users/rishitayashoda/anaconda3/lib/python3.10/site-packages/IPython/core/ultratb.py\", line 1140, in structured_traceback\n",
      "  File \"/Users/rishitayashoda/anaconda3/lib/python3.10/site-packages/IPython/core/ultratb.py\", line 1030, in format_exception_as_a_whole\n",
      "  File \"/Users/rishitayashoda/anaconda3/lib/python3.10/site-packages/IPython/core/ultratb.py\", line 1081, in get_records\n",
      "  File \"/Users/rishitayashoda/anaconda3/lib/python3.10/site-packages/pygments/styles/__init__.py\", line 91, in get_style_by_name\n",
      "pygments.util.ClassNotFound: Could not find style module 'default', though it should be builtin.\n"
     ]
    }
   ],
   "source": [
    "# Loading the model and scaler\n",
    "Model = joblib.load('model.pkl')\n",
    "Scaler = joblib.load('scaler.pkl')\n"
   ]
  },
  {
   "cell_type": "code",
   "execution_count": 5,
   "id": "53f18737",
   "metadata": {},
   "outputs": [
    {
     "name": "stdout",
     "output_type": "stream",
     "text": [
      "Unexpected exception formatting exception. Falling back to standard exception\n"
     ]
    },
    {
     "name": "stderr",
     "output_type": "stream",
     "text": [
      "Traceback (most recent call last):\n",
      "  File \"/Users/rishitayashoda/anaconda3/lib/python3.10/site-packages/IPython/core/interactiveshell.py\", line 3508, in run_code\n",
      "  File \"/var/folders/p7/27yn91ln65s_rgxl_s1ppk140000gn/T/ipykernel_22438/3294806694.py\", line 2, in <module>\n",
      "    app = Flask(__name__)\n",
      "NameError: name 'Flask' is not defined\n",
      "\n",
      "During handling of the above exception, another exception occurred:\n",
      "\n",
      "Traceback (most recent call last):\n",
      "  File \"/Users/rishitayashoda/anaconda3/lib/python3.10/site-packages/pygments/styles/__init__.py\", line 89, in get_style_by_name\n",
      "ModuleNotFoundError: No module named 'pygments.styles.default'\n",
      "\n",
      "During handling of the above exception, another exception occurred:\n",
      "\n",
      "Traceback (most recent call last):\n",
      "  File \"/Users/rishitayashoda/anaconda3/lib/python3.10/site-packages/IPython/core/interactiveshell.py\", line 2105, in showtraceback\n",
      "  File \"/Users/rishitayashoda/anaconda3/lib/python3.10/site-packages/IPython/core/ultratb.py\", line 1396, in structured_traceback\n",
      "  File \"/Users/rishitayashoda/anaconda3/lib/python3.10/site-packages/IPython/core/ultratb.py\", line 1287, in structured_traceback\n",
      "  File \"/Users/rishitayashoda/anaconda3/lib/python3.10/site-packages/IPython/core/ultratb.py\", line 1140, in structured_traceback\n",
      "  File \"/Users/rishitayashoda/anaconda3/lib/python3.10/site-packages/IPython/core/ultratb.py\", line 1030, in format_exception_as_a_whole\n",
      "  File \"/Users/rishitayashoda/anaconda3/lib/python3.10/site-packages/IPython/core/ultratb.py\", line 1081, in get_records\n",
      "  File \"/Users/rishitayashoda/anaconda3/lib/python3.10/site-packages/pygments/styles/__init__.py\", line 91, in get_style_by_name\n",
      "pygments.util.ClassNotFound: Could not find style module 'default', though it should be builtin.\n"
     ]
    }
   ],
   "source": [
    "# Creating a Flask app\n",
    "app = Flask(__name__)"
   ]
  },
  {
   "cell_type": "code",
   "execution_count": 6,
   "id": "12a7aa48",
   "metadata": {},
   "outputs": [
    {
     "name": "stdout",
     "output_type": "stream",
     "text": [
      "Unexpected exception formatting exception. Falling back to standard exception\n"
     ]
    },
    {
     "name": "stderr",
     "output_type": "stream",
     "text": [
      "Traceback (most recent call last):\n",
      "  File \"/Users/rishitayashoda/anaconda3/lib/python3.10/site-packages/IPython/core/interactiveshell.py\", line 3508, in run_code\n",
      "  File \"/var/folders/p7/27yn91ln65s_rgxl_s1ppk140000gn/T/ipykernel_22438/2402658552.py\", line 2, in <module>\n",
      "    @app.route('/predict', methods=['GET', 'POST'])\n",
      "NameError: name 'app' is not defined\n",
      "\n",
      "During handling of the above exception, another exception occurred:\n",
      "\n",
      "Traceback (most recent call last):\n",
      "  File \"/Users/rishitayashoda/anaconda3/lib/python3.10/site-packages/pygments/styles/__init__.py\", line 89, in get_style_by_name\n",
      "ModuleNotFoundError: No module named 'pygments.styles.default'\n",
      "\n",
      "During handling of the above exception, another exception occurred:\n",
      "\n",
      "Traceback (most recent call last):\n",
      "  File \"/Users/rishitayashoda/anaconda3/lib/python3.10/site-packages/IPython/core/interactiveshell.py\", line 2105, in showtraceback\n",
      "  File \"/Users/rishitayashoda/anaconda3/lib/python3.10/site-packages/IPython/core/ultratb.py\", line 1396, in structured_traceback\n",
      "  File \"/Users/rishitayashoda/anaconda3/lib/python3.10/site-packages/IPython/core/ultratb.py\", line 1287, in structured_traceback\n",
      "  File \"/Users/rishitayashoda/anaconda3/lib/python3.10/site-packages/IPython/core/ultratb.py\", line 1140, in structured_traceback\n",
      "  File \"/Users/rishitayashoda/anaconda3/lib/python3.10/site-packages/IPython/core/ultratb.py\", line 1030, in format_exception_as_a_whole\n",
      "  File \"/Users/rishitayashoda/anaconda3/lib/python3.10/site-packages/IPython/core/ultratb.py\", line 1081, in get_records\n",
      "  File \"/Users/rishitayashoda/anaconda3/lib/python3.10/site-packages/pygments/styles/__init__.py\", line 91, in get_style_by_name\n",
      "pygments.util.ClassNotFound: Could not find style module 'default', though it should be builtin.\n"
     ]
    }
   ],
   "source": [
    "# Defining a route for the prediction page\n",
    "@app.route('/predict', methods=['GET', 'POST'])\n",
    "def predict():\n",
    "    if request.method == 'POST':\n",
    "        # Extracting the input values from the form\n",
    "        RequiredData = {\n",
    "            'DATE_FOR': request.form['DATE_FOR'],\n",
    "            'RTD_ST_CD': request.form['RTD_ST_CD'],\n",
    "            'CustomerSegment': request.form['CustomerSegment'],\n",
    "            'Tenure': int(request.form['Tenure']),\n",
    "            'Age': int(request.form['Age']),\n",
    "            'MART_STATUS': request.form['MART_STATUS'],\n",
    "            'GENDER': request.form['GENDER'],\n",
    "            'CHANNEL1_6M': int(request.form['CHANNEL1_6M']),\n",
    "            'CHANNEL2_6M': int(request.form['CHANNEL2_6M']),\n",
    "            'CHANNEL3_6M': int(request.form['CHANNEL3_6M']),\n",
    "            'CHANNEL4_6M': int(request.form['CHANNEL4_6M']),\n",
    "            'CHANNEL5_6M': int(request.form['CHANNEL5_6M']),\n",
    "            'METHOD1_6M': int(request.form['METHOD1_6M']),\n",
    "            'RECENT_PAYMENT': int(request.form['RECENT_PAYMENT']),\n",
    "            'PAYMENTS_6M': int(request.form['PAYMENTS_6M']),\n",
    "            'CHANNEL1_3M': int(request.form['CHANNEL1_3M']),\n",
    "            'CHANNEL2_3M': int(request.form['CHANNEL2_3M']),\n",
    "            'CHANNEL3_3M': int(request.form['CHANNEL3_3M']),\n",
    "            'CHANNEL4_3M': int(request.form['CHANNEL4_3M']),\n",
    "            'CHANNEL5_3M': int(request.form['CHANNEL5_3M']),\n",
    "            'METHOD1_3M': int(request.form['METHOD1_3M']),\n",
    "            'PAYMENTS_3M': int(request.form['PAYMENTS_3M']),\n",
    "            'NOT_DI_3M': int(request.form['NOT_DI_3M']),\n",
    "            'NOT_DI_6M': int(request.form['NOT_DI_6M']),\n",
    "            'EVENT1_30_FLAG': int(request.form['EVENT1_30_FLAG']),\n",
    "            'EVENT2_90_SUM': int(request.form['EVENT2_90_SUM']),\n",
    "            'LOGINS': int(request.form['LOGINS']),\n",
    "            'POLICYPURCHASECHANNEL': request.form['POLICYPURCHASECHANNEL']\n",
    "        }\n",
    "        \n",
    "        # Scaling the input data\n",
    "        InputData = pd.DataFrame(data, index=[0])\n",
    "        InputData_scaling = scaler.transform(InputData)\n",
    "        \n",
    "        # Making the prediction\n",
    "        prediction = model.predict(InputData_scaling)[0]\n",
    "        \n",
    "        # Return the result to the user\n",
    "        return render_template('result.html', prediction=prediction)\n",
    "    \n",
    "    else:\n",
    "        # Render the prediction form\n",
    "        return render_template('predict.html')\n"
   ]
  },
  {
   "cell_type": "code",
   "execution_count": 7,
   "id": "5d899d00",
   "metadata": {},
   "outputs": [
    {
     "name": "stdout",
     "output_type": "stream",
     "text": [
      "Unexpected exception formatting exception. Falling back to standard exception\n"
     ]
    },
    {
     "name": "stderr",
     "output_type": "stream",
     "text": [
      "Traceback (most recent call last):\n",
      "  File \"/Users/rishitayashoda/anaconda3/lib/python3.10/site-packages/IPython/core/interactiveshell.py\", line 3508, in run_code\n",
      "  File \"/var/folders/p7/27yn91ln65s_rgxl_s1ppk140000gn/T/ipykernel_22438/948200943.py\", line 3, in <module>\n",
      "    app.run(debug=True, port=5003)\n",
      "NameError: name 'app' is not defined\n",
      "\n",
      "During handling of the above exception, another exception occurred:\n",
      "\n",
      "Traceback (most recent call last):\n",
      "  File \"/Users/rishitayashoda/anaconda3/lib/python3.10/site-packages/pygments/styles/__init__.py\", line 89, in get_style_by_name\n",
      "ModuleNotFoundError: No module named 'pygments.styles.default'\n",
      "\n",
      "During handling of the above exception, another exception occurred:\n",
      "\n",
      "Traceback (most recent call last):\n",
      "  File \"/Users/rishitayashoda/anaconda3/lib/python3.10/site-packages/IPython/core/interactiveshell.py\", line 2105, in showtraceback\n",
      "  File \"/Users/rishitayashoda/anaconda3/lib/python3.10/site-packages/IPython/core/ultratb.py\", line 1396, in structured_traceback\n",
      "  File \"/Users/rishitayashoda/anaconda3/lib/python3.10/site-packages/IPython/core/ultratb.py\", line 1287, in structured_traceback\n",
      "  File \"/Users/rishitayashoda/anaconda3/lib/python3.10/site-packages/IPython/core/ultratb.py\", line 1140, in structured_traceback\n",
      "  File \"/Users/rishitayashoda/anaconda3/lib/python3.10/site-packages/IPython/core/ultratb.py\", line 1030, in format_exception_as_a_whole\n",
      "  File \"/Users/rishitayashoda/anaconda3/lib/python3.10/site-packages/IPython/core/ultratb.py\", line 1081, in get_records\n",
      "  File \"/Users/rishitayashoda/anaconda3/lib/python3.10/site-packages/pygments/styles/__init__.py\", line 91, in get_style_by_name\n",
      "pygments.util.ClassNotFound: Could not find style module 'default', though it should be builtin.\n"
     ]
    }
   ],
   "source": [
    "# Starting the Flask app\n",
    "if __name__ == '__main__':\n",
    "    app.run(debug=True, port=5003)\n",
    "    import os\n",
    "\n",
    "# Set the file permissions for the application file\n",
    "os.chmod('Flask.py', 0o755)\n",
    "from collections import Sequence\n",
    "\n"
   ]
  },
  {
   "cell_type": "code",
   "execution_count": null,
   "id": "858598ae",
   "metadata": {},
   "outputs": [],
   "source": []
  },
  {
   "cell_type": "code",
   "execution_count": null,
   "id": "6ae98700",
   "metadata": {},
   "outputs": [],
   "source": []
  },
  {
   "cell_type": "code",
   "execution_count": null,
   "id": "0cc0acd8",
   "metadata": {},
   "outputs": [],
   "source": []
  }
 ],
 "metadata": {
  "kernelspec": {
   "display_name": "Python 3 (ipykernel)",
   "language": "python",
   "name": "python3"
  },
  "language_info": {
   "codemirror_mode": {
    "name": "ipython",
    "version": 3
   },
   "file_extension": ".py",
   "mimetype": "text/x-python",
   "name": "python",
   "nbconvert_exporter": "python",
   "pygments_lexer": "ipython3",
   "version": "3.10.9"
  }
 },
 "nbformat": 4,
 "nbformat_minor": 5
}
